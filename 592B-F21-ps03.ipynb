{
 "cells": [
  {
   "cell_type": "code",
   "execution_count": 1,
   "id": "c799209e-1082-463b-905d-6fb5f46541b5",
   "metadata": {},
   "outputs": [],
   "source": [
    "%matplotlib inline"
   ]
  },
  {
   "cell_type": "markdown",
   "id": "9b2f577e-592b-4e36-9d24-95ac62d49acf",
   "metadata": {},
   "source": [
    "# 592B Fall 2021 Problem Set 3 due Thurs 10/7 11.59PM"
   ]
  },
  {
   "cell_type": "markdown",
   "id": "99474383-b67d-4e64-8487-2e7f614ddd6a",
   "metadata": {},
   "source": [
    "## Problem 1: Spectrograms in Praat and spectra vs. spectrograms.\n",
    "\n",
    "Clone the [Daniel McCloy's spectrogram tutorial Github repository here](https://github.com/drammock/spectrogram-tutorial) and work through it.\n",
    "\n",
    "At some point you'll give a matplotlib error like the one below. Make sure that you update the code to avoid the error."
   ]
  },
  {
   "cell_type": "raw",
   "id": "c3cd5323-d386-4779-9fab-3520fbe6ab60",
   "metadata": {},
   "source": [
    "/Users/oxbow/opt/anaconda3/lib/python3.7/site-packages/ipykernel_launcher.py:52: MatplotlibDeprecationWarning: Passing parameters norm and vmin/vmax simultaneously is deprecated since 3.3 and will become an error two minor releases later. Please pass vmin/vmax directly to the norm when creating it.\n"
   ]
  },
  {
   "cell_type": "markdown",
   "id": "366da4b5-8e65-4bc1-8950-4eb401f8d6dc",
   "metadata": {},
   "source": [
    "1. Pick a different audio file than the one used as a sample and make sure to include it in your homework repository. Tell us what the audio file is of. [1 pt]\n",
    "\n",
    "2. Use the code from the repo (please include code in notebook here) to compute wide-band spectrograms using the `gaussian_spectrogram` function and the `praat_spectrogram` function. Also use the same settings in Praat to compute a spectrogram with Praat and include an image of that spectrogram in your notebook as well. Comment on how your computed spectrograms look compared to the one produced directly in Praat (see [tutorial on printing spectrograms](https://person2.sol.lu.se/SidneyWood/praate/printspectgm.html)). [4 pts]\n",
    "\n",
    "3. In addition, compute **narrow-band** spectrograms for your audio file using the `gaussian_spectrogram` function and the `praat_spectrogram` function. Explain how you changed your code to compute a narrow-band rather than a wide-band spectrogram and why those code changes resulted in a narrow-band rather than a wide-band specrogram. [4pts]\n",
    "\n",
    "4. McCloy's code demonstrates what \"ringing\" looks like in a spectrogram, comparing a Bartlett and a Gaussian window for spectrograms of a pure tone.  Show what ringing looks like in a **spectrum**, comparing the same window shapes (Bartlett and Gaussian) for the same pure tone from McCloy's code. Describe how \"ringing\" manifests in a spectrum. [5pts]\n",
    "\n",
    "5. What choices involved in computing a spectrogram also come up for computing a spectrum? What choices only come up for computing a spectrogram and not the spectrum? (By choices, I mean, for example, choice of window shape, choice of overlap, etc.) [3pts]\n"
   ]
  },
  {
   "cell_type": "markdown",
   "id": "9cec9e8b-7fee-4429-ae8f-23f4e96d3e2a",
   "metadata": {},
   "source": [
    "## Problem 2. Time-limited signals and DFT\n",
    "    \n",
    "1. Work through *Who Is Fourier?* Chapters 12 and 13, which cover the Fourier Transform, the Discrete Fourier Transform, and the Fast Fourier Transform.\n",
    "\n",
    "2. Chapter 12, Section 2.2 works through the Fourier transform of a rectangular pulse (although it is not described as such, they instead present a rectangular pulse from the perspective of treating the function $f(t)=1$ as a time-limited signal). Compute the Fourier transform of a rectangular pulse with different pulse widths (write a function that can accept different widths). Show that the Fourier transform goes towards an infinite pulse at 0 (this is called a delta function) as the width increases, by comparing the spectra for different pulse widths. [4 pts]\n",
    "\n",
    "Note a standard rectangular pulse (with width 1), also know as the \"rect\" function, is defined as:\n",
    "\n",
    "$$ \\Pi(t)  = \\left\\{\n",
    "        \\begin{array}{ll}\n",
    "            1 & \\quad \\lvert t \\rvert \\leq 1/2 \\\\\n",
    "            0 & \\quad otherwise \n",
    "        \\end{array}\n",
    "    \\right.$$ \n",
    "\n",
    "3. On page 397 in *Who Is Fourier?*, it says that you need to \"repeat the whole process 160 times\" in explaining the Discrete Fourier Transform. Explain why the process needs to be repeated 160 times, and what is different between each of those 160 repetitions. [3 pts] "
   ]
  }
 ],
 "metadata": {
  "kernelspec": {
   "display_name": "Python 3",
   "language": "python",
   "name": "python3"
  },
  "language_info": {
   "codemirror_mode": {
    "name": "ipython",
    "version": 3
   },
   "file_extension": ".py",
   "mimetype": "text/x-python",
   "name": "python",
   "nbconvert_exporter": "python",
   "pygments_lexer": "ipython3",
   "version": "3.7.7"
  }
 },
 "nbformat": 4,
 "nbformat_minor": 5
}
